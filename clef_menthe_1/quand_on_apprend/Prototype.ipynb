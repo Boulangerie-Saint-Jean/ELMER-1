{
  "nbformat": 4,
  "nbformat_minor": 0,
  "metadata": {
    "colab": {
      "name": "Celui de moi.ipynb",
      "version": "0.3.2",
      "views": {},
      "default_view": {},
      "provenance": [],
      "collapsed_sections": [
        "-Q_rdlLdao3n",
        "ZDYDdYDiKdYD",
        "Ccrnha_zKfAd",
        "-BaU-mMyPvP8",
        "iRULdVdUJTFd",
        "rUzkiQHpX_mo",
        "_fMm5xe9YMDu"
      ]
    },
    "kernelspec": {
      "name": "python3",
      "display_name": "Python 3"
    },
    "accelerator": "GPU"
  },
  "cells": [
    {
      "metadata": {
        "id": "hEPBZZHUbJqN",
        "colab_type": "text"
      },
      "cell_type": "markdown",
      "source": [
        "# Les imports (toujours)"
      ]
    },
    {
      "metadata": {
        "id": "Yo_shyXLDqTr",
        "colab_type": "code",
        "colab": {
          "autoexec": {
            "startup": false,
            "wait_interval": 0
          },
          "base_uri": "https://localhost:8080/",
          "height": 34
        },
        "outputId": "adeb675b-8574-492a-c7be-bea8958b2a2a",
        "executionInfo": {
          "status": "ok",
          "timestamp": 1525809291555,
          "user_tz": -120,
          "elapsed": 1391,
          "user": {
            "displayName": "Clementin BOITTIAUX",
            "photoUrl": "//lh6.googleusercontent.com/-OYvMkuBbVAE/AAAAAAAAAAI/AAAAAAAAAKs/fuzgkbjxJB0/s50-c-k-no/photo.jpg",
            "userId": "113633162642505812981"
          }
        }
      },
      "cell_type": "code",
      "source": [
        "import os\n",
        "import numpy as np\n",
        "from keras.preprocessing.image import load_img, img_to_array, array_to_img, ImageDataGenerator\n",
        "from keras.models import Sequential\n",
        "from keras.layers import Conv2D, UpSampling2D, InputLayer\n",
        "from skimage.color import rgb2lab, lab2rgb\n",
        "from IPython.display import display"
      ],
      "execution_count": 1,
      "outputs": [
        {
          "output_type": "stream",
          "text": [
            "Using TensorFlow backend.\n"
          ],
          "name": "stderr"
        }
      ]
    },
    {
      "metadata": {
        "id": "-Q_rdlLdao3n",
        "colab_type": "text"
      },
      "cell_type": "markdown",
      "source": [
        "# Importation du Dataset (à chaque nouvelle Session)"
      ]
    },
    {
      "metadata": {
        "id": "ZDYDdYDiKdYD",
        "colab_type": "text"
      },
      "cell_type": "markdown",
      "source": [
        "### Dataset 1"
      ]
    },
    {
      "metadata": {
        "id": "eBLzFUNtH7K4",
        "colab_type": "code",
        "colab": {
          "autoexec": {
            "startup": false,
            "wait_interval": 0
          }
        }
      },
      "cell_type": "code",
      "source": [
        "#On importe le dataset\n",
        "\n",
        "!wget http://vis-www.cs.umass.edu/lfw/lfw.tgz\n",
        "!tar -xf lfw.tgz\n",
        "!rm lfw.tgz\n",
        "!mkdir images\n",
        "for personne in os.listdir('lfw'):\n",
        "  for image in os.listdir('lfw/' + personne):\n",
        "    os.rename('lfw/' + personne + '/' + image, 'images/' + image)\n",
        "!rm -r lfw"
      ],
      "execution_count": 0,
      "outputs": []
    },
    {
      "metadata": {
        "id": "Ccrnha_zKfAd",
        "colab_type": "text"
      },
      "cell_type": "markdown",
      "source": [
        "### Dataset 2"
      ]
    },
    {
      "metadata": {
        "id": "GHTUl6f8KjcI",
        "colab_type": "code",
        "colab": {
          "autoexec": {
            "startup": false,
            "wait_interval": 0
          }
        }
      },
      "cell_type": "code",
      "source": [
        "!git clone https://github.com/Kernev/Elmer-datasets.git lfw\n",
        "!mv lfw/lfw images\n",
        "!rm -r lfw"
      ],
      "execution_count": 0,
      "outputs": []
    },
    {
      "metadata": {
        "id": "BsX8Nv5lawFt",
        "colab_type": "text"
      },
      "cell_type": "markdown",
      "source": [
        "# Formation des entrees/sorties"
      ]
    },
    {
      "metadata": {
        "id": "CcFSXkWuMqLb",
        "colab_type": "code",
        "colab": {
          "autoexec": {
            "startup": false,
            "wait_interval": 0
          }
        }
      },
      "cell_type": "code",
      "source": [
        "#On charge les images en PIL dans sorties\n",
        "\n",
        "images = os.listdir('images')[:10]\n",
        "sorties = [load_img('images/' + image) for image in images]"
      ],
      "execution_count": 0,
      "outputs": []
    },
    {
      "metadata": {
        "id": "-BaU-mMyPvP8",
        "colab_type": "text"
      },
      "cell_type": "markdown",
      "source": [
        "### Version RGB"
      ]
    },
    {
      "metadata": {
        "id": "oK4Oc5aSUtw8",
        "colab_type": "code",
        "colab": {
          "autoexec": {
            "startup": false,
            "wait_interval": 0
          }
        }
      },
      "cell_type": "code",
      "source": [
        "#On met en entrees les sorties convertis en noir et blanc\n",
        "entrees = [image.convert('L') for image in sorties]\n",
        "\n",
        "#On convertit les images en tableaux et on renormalise\n",
        "sorties = [img_to_array(image).reshape((1, 250, 250, 3))/255 for image in sorties]\n",
        "entrees = [img_to_array(image).reshape((1, 250, 250, 1))/255 for image in entrees]"
      ],
      "execution_count": 0,
      "outputs": []
    },
    {
      "metadata": {
        "id": "o34dGUcMPyb-",
        "colab_type": "text"
      },
      "cell_type": "markdown",
      "source": [
        "### Version LAB"
      ]
    },
    {
      "metadata": {
        "id": "3ZfiIFNOTLQd",
        "colab_type": "code",
        "colab": {
          "autoexec": {
            "startup": false,
            "wait_interval": 0
          }
        }
      },
      "cell_type": "code",
      "source": [
        "#On transforme en LAB\n",
        "sorties = [rgb2lab(img_to_array(image) / 255) for image in sorties]\n",
        "\n",
        "#On isole les teintes de gris pour entrees\n",
        "#et les teintes de couleurs pour sorties\n",
        "entrees = [image[:, :, 0] for image in sorties]\n",
        "sorties = [image[:, :, 1:] for image in sorties]\n",
        "\n",
        "#On reshape et on renormalise\n",
        "entrees = [image.reshape(image.shape + (1,))/128 for image in entrees]\n",
        "sorties = [image/128 for image in sorties]\n",
        "\n",
        "#On convertit en np array\n",
        "entrees = np.array(entrees)\n",
        "sorties = np.array(sorties)"
      ],
      "execution_count": 0,
      "outputs": []
    },
    {
      "metadata": {
        "id": "XA_AnQora_IT",
        "colab_type": "text"
      },
      "cell_type": "markdown",
      "source": [
        "# Modèle"
      ]
    },
    {
      "metadata": {
        "id": "i67s1fxrEDA3",
        "colab_type": "text"
      },
      "cell_type": "markdown",
      "source": [
        "## Construction"
      ]
    },
    {
      "metadata": {
        "id": "LcyAIISHZ1wD",
        "colab_type": "code",
        "colab": {
          "autoexec": {
            "startup": false,
            "wait_interval": 0
          },
          "base_uri": "https://localhost:8080/",
          "height": 578
        },
        "outputId": "ee5cc762-e682-4451-97db-7c08c3ef4906",
        "executionInfo": {
          "status": "ok",
          "timestamp": 1525809298413,
          "user_tz": -120,
          "elapsed": 496,
          "user": {
            "displayName": "Clementin BOITTIAUX",
            "photoUrl": "//lh6.googleusercontent.com/-OYvMkuBbVAE/AAAAAAAAAAI/AAAAAAAAAKs/fuzgkbjxJB0/s50-c-k-no/photo.jpg",
            "userId": "113633162642505812981"
          }
        }
      },
      "cell_type": "code",
      "source": [
        "model = Sequential()\n",
        "model.add(InputLayer(input_shape=(None, None, 1)))\n",
        "model.add(Conv2D(8, (3, 3), activation='relu', padding='same', strides=2))\n",
        "model.add(Conv2D(8, (3, 3), activation='relu', padding='same'))\n",
        "model.add(Conv2D(16, (3, 3), activation='relu', padding='same'))\n",
        "model.add(Conv2D(16, (3, 3), activation='relu', padding='same', strides=2))\n",
        "model.add(Conv2D(32, (3, 3), activation='relu', padding='same'))\n",
        "model.add(Conv2D(32, (3, 3), activation='relu', padding='same', strides=2))\n",
        "model.add(UpSampling2D((2, 2)))\n",
        "model.add(Conv2D(32, (3, 3), activation='relu', padding='same'))\n",
        "model.add(UpSampling2D((2, 2)))\n",
        "model.add(Conv2D(16, (3, 3), activation='relu', padding='same'))\n",
        "model.add(UpSampling2D((2, 2)))\n",
        "model.add(Conv2D(2, (3, 3), activation='tanh', padding='same'))\n",
        "model.summary()"
      ],
      "execution_count": 4,
      "outputs": [
        {
          "output_type": "stream",
          "text": [
            "_________________________________________________________________\n",
            "Layer (type)                 Output Shape              Param #   \n",
            "=================================================================\n",
            "input_1 (InputLayer)         (None, None, None, 1)     0         \n",
            "_________________________________________________________________\n",
            "conv2d_1 (Conv2D)            (None, None, None, 8)     80        \n",
            "_________________________________________________________________\n",
            "conv2d_2 (Conv2D)            (None, None, None, 8)     584       \n",
            "_________________________________________________________________\n",
            "conv2d_3 (Conv2D)            (None, None, None, 16)    1168      \n",
            "_________________________________________________________________\n",
            "conv2d_4 (Conv2D)            (None, None, None, 16)    2320      \n",
            "_________________________________________________________________\n",
            "conv2d_5 (Conv2D)            (None, None, None, 32)    4640      \n",
            "_________________________________________________________________\n",
            "conv2d_6 (Conv2D)            (None, None, None, 32)    9248      \n",
            "_________________________________________________________________\n",
            "up_sampling2d_1 (UpSampling2 (None, None, None, 32)    0         \n",
            "_________________________________________________________________\n",
            "conv2d_7 (Conv2D)            (None, None, None, 32)    9248      \n",
            "_________________________________________________________________\n",
            "up_sampling2d_2 (UpSampling2 (None, None, None, 32)    0         \n",
            "_________________________________________________________________\n",
            "conv2d_8 (Conv2D)            (None, None, None, 16)    4624      \n",
            "_________________________________________________________________\n",
            "up_sampling2d_3 (UpSampling2 (None, None, None, 16)    0         \n",
            "_________________________________________________________________\n",
            "conv2d_9 (Conv2D)            (None, None, None, 2)     290       \n",
            "=================================================================\n",
            "Total params: 32,202\n",
            "Trainable params: 32,202\n",
            "Non-trainable params: 0\n",
            "_________________________________________________________________\n"
          ],
          "name": "stdout"
        }
      ]
    },
    {
      "metadata": {
        "id": "gPGAN4V-EO4G",
        "colab_type": "text"
      },
      "cell_type": "markdown",
      "source": [
        "## Parametrisation"
      ]
    },
    {
      "metadata": {
        "id": "DwowBwQrbSnT",
        "colab_type": "code",
        "colab": {
          "autoexec": {
            "startup": false,
            "wait_interval": 0
          }
        }
      },
      "cell_type": "code",
      "source": [
        "model.compile(optimizer='rmsprop', loss='mse')"
      ],
      "execution_count": 0,
      "outputs": []
    },
    {
      "metadata": {
        "id": "EDQq6syBEThQ",
        "colab_type": "text"
      },
      "cell_type": "markdown",
      "source": [
        "## Entrainement"
      ]
    },
    {
      "metadata": {
        "id": "SJNjDouRX6QR",
        "colab_type": "text"
      },
      "cell_type": "markdown",
      "source": [
        "### Sur tout le Dataset"
      ]
    },
    {
      "metadata": {
        "id": "iRULdVdUJTFd",
        "colab_type": "text"
      },
      "cell_type": "markdown",
      "source": [
        "#### Useless generator"
      ]
    },
    {
      "metadata": {
        "id": "ozy5XC8uErO5",
        "colab_type": "code",
        "colab": {
          "autoexec": {
            "startup": false,
            "wait_interval": 0
          }
        }
      },
      "cell_type": "code",
      "source": [
        "def generator(x, y, epochs, batch_size):\n",
        "  for p in range(epochs):\n",
        "    for i in range(0, len(x), batch_size):\n",
        "      j = i + batch_size\n",
        "      yield (x[i:j], y[i:j])"
      ],
      "execution_count": 0,
      "outputs": []
    },
    {
      "metadata": {
        "id": "BURAA3SdJXjV",
        "colab_type": "text"
      },
      "cell_type": "markdown",
      "source": [
        "#### Vrai generator"
      ]
    },
    {
      "metadata": {
        "id": "E58R4kx7-ChQ",
        "colab_type": "code",
        "colab": {
          "autoexec": {
            "startup": false,
            "wait_interval": 0
          }
        }
      },
      "cell_type": "code",
      "source": [
        "batch_size = 1\n",
        "\n",
        "datagen = ImageDataGenerator(\n",
        "  shear_range=0.2,\n",
        "  zoom_range=0.2,\n",
        "  rotation_range=20,\n",
        "  horizontal_flip=True)"
      ],
      "execution_count": 0,
      "outputs": []
    },
    {
      "metadata": {
        "id": "UtLjA55sJkAi",
        "colab_type": "text"
      },
      "cell_type": "markdown",
      "source": [
        "#### Entrainement"
      ]
    },
    {
      "metadata": {
        "id": "ryR4DdQIJgpZ",
        "colab_type": "code",
        "colab": {
          "autoexec": {
            "startup": false,
            "wait_interval": 0
          },
          "base_uri": "https://localhost:8080/",
          "height": 34
        },
        "outputId": "ec06782e-43e8-4cdd-c20b-ebb0b67115f4",
        "executionInfo": {
          "status": "ok",
          "timestamp": 1525809509479,
          "user_tz": -120,
          "elapsed": 203740,
          "user": {
            "displayName": "Clementin BOITTIAUX",
            "photoUrl": "//lh6.googleusercontent.com/-OYvMkuBbVAE/AAAAAAAAAAI/AAAAAAAAAKs/fuzgkbjxJB0/s50-c-k-no/photo.jpg",
            "userId": "113633162642505812981"
          }
        }
      },
      "cell_type": "code",
      "source": [
        "model.fit_generator(datagen.flow(entrees, sorties, batch_size=batch_size),\n",
        "                    epochs=1000, verbose = 0,\n",
        "                    steps_per_epoch=len(entrees)/batch_size)"
      ],
      "execution_count": 7,
      "outputs": [
        {
          "output_type": "execute_result",
          "data": {
            "text/plain": [
              "<keras.callbacks.History at 0x7fbd56b5f828>"
            ]
          },
          "metadata": {
            "tags": []
          },
          "execution_count": 7
        }
      ]
    },
    {
      "metadata": {
        "id": "rUzkiQHpX_mo",
        "colab_type": "text"
      },
      "cell_type": "markdown",
      "source": [
        "### Sur une seule image"
      ]
    },
    {
      "metadata": {
        "id": "gniV2-PyOpBl",
        "colab_type": "code",
        "colab": {
          "autoexec": {
            "startup": false,
            "wait_interval": 0
          }
        }
      },
      "cell_type": "code",
      "source": [
        "ind = 99\n",
        "model.fit(x=entrees[ind:ind+1], y=sorties[ind:ind+1], batch_size=1,\n",
        "          epochs=10000, verbose=0)"
      ],
      "execution_count": 0,
      "outputs": []
    },
    {
      "metadata": {
        "id": "pcoZsqHUEXu1",
        "colab_type": "text"
      },
      "cell_type": "markdown",
      "source": [
        "# Testation"
      ]
    },
    {
      "metadata": {
        "id": "_fMm5xe9YMDu",
        "colab_type": "text"
      },
      "cell_type": "markdown",
      "source": [
        "### Version RGB"
      ]
    },
    {
      "metadata": {
        "id": "Tlu0Xu9XyAOc",
        "colab_type": "code",
        "colab": {
          "autoexec": {
            "startup": false,
            "wait_interval": 0
          }
        }
      },
      "cell_type": "code",
      "source": [
        "SEL = 88\n",
        "\n",
        "prediction = model.predict(entrees[SEL], batch_size=1).reshape((250,250,3)) * 255\n",
        "display(array_to_img(prediction))\n",
        "display(array_to_img(entrees[SEL].reshape(250,250,1)))\n",
        "display(array_to_img(sorties[SEL].reshape(250,250,3)))"
      ],
      "execution_count": 0,
      "outputs": []
    },
    {
      "metadata": {
        "id": "GuRAEMxyYPVi",
        "colab_type": "text"
      },
      "cell_type": "markdown",
      "source": [
        "### Version LAB"
      ]
    },
    {
      "metadata": {
        "id": "JSL6FDQQhxo-",
        "colab_type": "code",
        "colab": {
          "autoexec": {
            "startup": false,
            "wait_interval": 0
          }
        }
      },
      "cell_type": "code",
      "source": [
        "def prediction_a_img(prediction, entree):\n",
        "  teintes = prediction.reshape(prediction.shape[1:])\n",
        "  total = np.append(entree, teintes, axis=2) * 128\n",
        "  return array_to_img(lab2rgb(total))"
      ],
      "execution_count": 0,
      "outputs": []
    },
    {
      "metadata": {
        "id": "tPwohlYeDWaL",
        "colab_type": "code",
        "colab": {
          "autoexec": {
            "startup": false,
            "wait_interval": 0
          },
          "base_uri": "https://localhost:8080/",
          "height": 401
        },
        "outputId": "e5bfaeae-08af-4a8c-b175-f0f23efe2df1",
        "executionInfo": {
          "status": "ok",
          "timestamp": 1525809520299,
          "user_tz": -120,
          "elapsed": 956,
          "user": {
            "displayName": "Clementin BOITTIAUX",
            "photoUrl": "//lh6.googleusercontent.com/-OYvMkuBbVAE/AAAAAAAAAAI/AAAAAAAAAKs/fuzgkbjxJB0/s50-c-k-no/photo.jpg",
            "userId": "113633162642505812981"
          }
        }
      },
      "cell_type": "code",
      "source": [
        "SEL = 1\n",
        "\n",
        "prediction = model.predict(entrees[SEL:SEL+1], batch_size=1)\n",
        "display(prediction_a_img(prediction, entrees[SEL]))\n",
        "display(load_img('images/' + images[SEL], grayscale=True))\n",
        "display(load_img('images/' + images[SEL]))"
      ],
      "execution_count": 9,
      "outputs": [
        {
          "output_type": "display_data",
          "data": {
            "image/png": "[encoded data removed]",
            "text/plain": [
              "<PIL.Image.Image image mode=RGB size=128x128 at 0x7FBD37CD0588>"
            ]
          },
          "metadata": {
            "tags": []
          }
        },
        {
          "output_type": "display_data",
          "data": {
            "image/png": "[encoded data removed]",
            "text/plain": [
              "<PIL.Image.Image image mode=L size=128x128 at 0x7FBD37CC8748>"
            ]
          },
          "metadata": {
            "tags": []
          }
        },
        {
          "output_type": "display_data",
          "data": {
            "image/png": "[encoded data removed]",
            "text/plain": [
              "<PIL.JpegImagePlugin.JpegImageFile image mode=RGB size=128x128 at 0x7FBD37CD05C0>"
            ]
          },
          "metadata": {
            "tags": []
          }
        }
      ]
    },
    {
      "metadata": {
        "id": "jcvuFO3TsDy3",
        "colab_type": "code",
        "colab": {
          "autoexec": {
            "startup": false,
            "wait_interval": 0
          }
        }
      },
      "cell_type": "code",
      "source": [
        ""
      ],
      "execution_count": 0,
      "outputs": []
    }
  ]
}